{
 "cells": [
  {
   "cell_type": "code",
   "execution_count": null,
   "id": "62cae940",
   "metadata": {
    "vscode": {
     "languageId": "plaintext"
    }
   },
   "outputs": [],
   "source": [
    "# 1. Configuração\n",
    "from py2dna.compiler.quantum import QDNAProcessor\n",
    "qdnap = QDNAProcessor()\n",
    "\n",
    "# 2. Sequência alvo e primers\n",
    "target = \"ACGTACGT\"\n",
    "forward_primer = qdnap.encode_dna_to_qubits(\"ACG\")\n",
    "reverse_primer = qdnap.encode_dna_to_qubits(\"ACGT\")\n",
    "\n",
    "# 3. Circuito de amplificação quântica\n",
    "qc = QuantumCircuit(8)\n",
    "qc.append(forward_primer, [0,1,2])\n",
    "qc.append(reverse_primer, [5,6,7])\n",
    "qc.h(range(8))  # Superposição de todos os possíveis produtos\n",
    "\n",
    "# 4. Medição (simulada)\n",
    "result = execute(qc, backend=Aer.get_backend('qasm_simulator'), shots=1000)\n",
    "print(\"Distribuição de produtos:\", result.result().get_counts())"
   ]
  }
 ],
 "metadata": {
  "language_info": {
   "name": "python"
  }
 },
 "nbformat": 4,
 "nbformat_minor": 5
}
